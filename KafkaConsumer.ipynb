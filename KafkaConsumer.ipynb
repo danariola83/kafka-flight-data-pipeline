{
 "cells": [
  {
   "cell_type": "code",
   "execution_count": 9,
   "metadata": {},
   "outputs": [],
   "source": [
    "from kafka import KafkaConsumer\n",
    "from awsfunctions import get_EC2_dns\n",
    "from time import sleep\n",
    "from json import dumps, loads\n",
    "import json"
   ]
  },
  {
   "cell_type": "code",
   "execution_count": 10,
   "metadata": {},
   "outputs": [],
   "source": [
    "EC2_dns = get_EC2_dns()\n",
    "topic = 'EC2_ip_test1'"
   ]
  },
  {
   "cell_type": "code",
   "execution_count": 11,
   "metadata": {},
   "outputs": [],
   "source": [
    "consumer = KafkaConsumer(\n",
    "    topic, \n",
    "    api_version=(0,10,2), \n",
    "    bootstrap_servers=[f'{EC2_dns}:9092'],\n",
    "    group_id=None,  \n",
    "    value_deserializer=lambda x: loads(x.decode('utf-8')),\n",
    "    consumer_timeout_ms=15000\n",
    "    )"
   ]
  },
  {
   "cell_type": "code",
   "execution_count": 12,
   "metadata": {},
   "outputs": [
    {
     "name": "stdout",
     "output_type": "stream",
     "text": [
      "{'api_call_timestamp': '2025-03-31_10:23', 'bbox_country': 'Philippines', 'origin_country': 'Philippines', 'icao24': '758368', 'callsign': 'PAL467  ', 'time_position': '2025-03-31 00:00', 'last_contact': '2025-03-31 00:00', 'longitude': 122.8541, 'latitude': 15.8631, 'baro_altitude': 10965.18, 'on_ground': False, 'velocity': 234.48, 'true_track': 203.81, 'vertical_rate': -0.33, 'sensors': None, 'geo_altitude': 11719.56, 'squawk': None, 'spi': False, 'position_source': 'ADS-B', 'category': 'No information at all'}\n"
     ]
    }
   ],
   "source": [
    "for msg in consumer:\n",
    "    print(msg.value[0])"
   ]
  }
 ],
 "metadata": {
  "kernelspec": {
   "display_name": ".venv",
   "language": "python",
   "name": "python3"
  },
  "language_info": {
   "codemirror_mode": {
    "name": "ipython",
    "version": 3
   },
   "file_extension": ".py",
   "mimetype": "text/x-python",
   "name": "python",
   "nbconvert_exporter": "python",
   "pygments_lexer": "ipython3",
   "version": "3.12.3"
  }
 },
 "nbformat": 4,
 "nbformat_minor": 2
}
